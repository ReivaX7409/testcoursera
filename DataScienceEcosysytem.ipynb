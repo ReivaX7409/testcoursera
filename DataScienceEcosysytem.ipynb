{
 "cells": [
  {
   "cell_type": "markdown",
   "id": "8a9010de-5bd4-4882-8a49-b92e0c6fa33a",
   "metadata": {},
   "source": [
    "# Data Science Tools and Ecosystem"
   ]
  },
  {
   "cell_type": "markdown",
   "id": "8116beaa-0b9f-4638-9cbb-5a7ea06f0890",
   "metadata": {},
   "source": [
    "In this notebook, Data Science Tools and Ecosystem are summarized."
   ]
  },
  {
   "cell_type": "markdown",
   "id": "1ffe6ef7-9057-485f-b23f-54c12ca80f83",
   "metadata": {},
   "source": [
    "**Objectives:**\n",
    "* List popular languages for Data Science \n",
    "* List the commonly libraries used by Data Scientists \n",
    "* List Data Science Tools "
   ]
  },
  {
   "cell_type": "markdown",
   "id": "9be88566-47ad-408c-b4e4-6d4edec9bb56",
   "metadata": {},
   "source": [
    "Some of the popular languages that Data Scientists use are:\n",
    "1. Python\n",
    "2. R\n",
    "3. SQL\n",
    "4. JavaScript"
   ]
  },
  {
   "cell_type": "markdown",
   "id": "9fa42bc0-6b05-4482-8e1d-550a805b1a08",
   "metadata": {},
   "source": [
    "Some of the commonly used libraries used by Data Scientists include:\n",
    "1. Pandas\n",
    "2. Numpy\n",
    "3. Scikit learn\n",
    "4. Matplotlib"
   ]
  },
  {
   "cell_type": "markdown",
   "id": "6adb735b-3516-4749-aa46-88d22134cc8d",
   "metadata": {},
   "source": [
    "| Data Science Tools |\n",
    "| ------------------ |\n",
    "| Apache Spark |\n",
    "| Tensorflow |\n",
    "| Keras|| "
   ]
  },
  {
   "cell_type": "markdown",
   "id": "ba4fadf1-6598-4e2c-8067-204689ceddeb",
   "metadata": {},
   "source": [
    "### Below are a few examples of evaluating arithmetic expressions in Python ###"
   ]
  },
  {
   "cell_type": "code",
   "execution_count": 2,
   "id": "87381e5f-1d84-45c2-9e27-0bc767c66145",
   "metadata": {},
   "outputs": [
    {
     "data": {
      "text/plain": [
       "17"
      ]
     },
     "execution_count": 2,
     "metadata": {},
     "output_type": "execute_result"
    }
   ],
   "source": [
    "# This a simple arithmetic expression to multiply then add integers\n",
    "(3*4)+5"
   ]
  },
  {
   "cell_type": "code",
   "execution_count": 3,
   "id": "17c213a3-d3b7-4146-b86d-adf1f3f4b0f1",
   "metadata": {},
   "outputs": [
    {
     "name": "stdout",
     "output_type": "stream",
     "text": [
      "200 minutes = 3 h 20 min\n"
     ]
    }
   ],
   "source": [
    "# This will convert 200 minutes to hours by diving by 60\n",
    "h=200//60\n",
    "m=200%60\n",
    "print(\"200 minutes =\", h, \"h\", m, \"min\")"
   ]
  },
  {
   "cell_type": "markdown",
   "id": "ea14f576-7c00-4c40-87b4-f04730683330",
   "metadata": {},
   "source": [
    "## Author\n",
    "\n",
    "[Xavier BONNARD](https://www.linkedin.com/in/xavier-bonnard-4304aa220/) \n"
   ]
  },
  {
   "cell_type": "code",
   "execution_count": null,
   "id": "ebbae519-36f0-4965-ac6c-4ec69c2e24a4",
   "metadata": {},
   "outputs": [],
   "source": []
  }
 ],
 "metadata": {
  "kernelspec": {
   "display_name": "Python 3 (ipykernel)",
   "language": "python",
   "name": "python3"
  },
  "language_info": {
   "codemirror_mode": {
    "name": "ipython",
    "version": 3
   },
   "file_extension": ".py",
   "mimetype": "text/x-python",
   "name": "python",
   "nbconvert_exporter": "python",
   "pygments_lexer": "ipython3",
   "version": "3.11.9"
  }
 },
 "nbformat": 4,
 "nbformat_minor": 5
}
